{
 "cells": [
  {
   "cell_type": "markdown",
   "metadata": {},
   "source": [
    "# Øving 1   (pilot )"
   ]
  },
  {
   "cell_type": "markdown",
   "metadata": {},
   "source": [
    "## Oppgave 1\n",
    "a) Hvor mange $\\text{ m/s}^2$  tilsvarer en akselerasjon på  $1\\text{ km/h}^2$ ?\n",
    "\n",
    "b) En bestemt elbil oppgis å ha et energiforbruk ved blandet kjøring på $1 \\textrm{ kWh/mil}$. Hva tilsvarer dette i joule per meter; $\\textrm{J/m}$?\n",
    "\n",
    "\n",
    "\n",
    "Oppgitt: $1 \\textrm{ kWh}=3,6 \\cdot 10^6 \\textrm{ J}$, $1 \\textrm{ mil}=10 \\textrm{ km}$."
   ]
  },
  {
   "attachments": {},
   "cell_type": "markdown",
   "metadata": {},
   "source": [
    "## Oppgave 2\n",
    "En bil som kjører i $30 \\text{ km/h}$ bremses opp og stopper etter $30 \\text{ m}$. Bilens akselerasjon er konstant på stoppestrekningen. \n",
    "\n",
    "a) Hvor stor er akselerasjonen under oppbremsingen?\n",
    "\n",
    "b) Hvor lang tid tar det før bilen stanser?\n",
    "\n",
    "Bilen bremses så opp fra dobbelt så stor hastighet, $60 \\text{ km/h}$. Anta samme akselerasjon som funnet i a). \n",
    "\n",
    "c) Hvor lang er bremsestrekningen og bremsetiden nå i forhold til oppbremsingen i a)?"
   ]
  },
  {
   "attachments": {},
   "cell_type": "markdown",
   "metadata": {},
   "source": [
    "## Oppgave 3\n",
    "En fartssynder i en personbil passerer en politibil, som står parkert i veikanten, i $100 \\text{ km/h}$ og fortsetter med konstant hastighet. Etter $2,0 \\text{ s}$ tar politibilen opp jakten på personbilen med konstant akselerasjon. \n",
    "\n",
    "a) Skisser posisjon-tid-grafen for politibilen og personbilen dersom $x=0$ er politibilens startpunkt, og $t=0$ er tidspunktet der politibilen starter jakten.\n",
    "\n",
    "b) Hva må politibilens akselerasjon være for å ta igjen personbilen $1,0 \\text{ km}$ etter passeringspunktet?\n",
    "\n",
    "c) Hva er politibilens sluttfart idet den tar igjen personbilen?"
   ]
  },
  {
   "attachments": {},
   "cell_type": "markdown",
   "metadata": {},
   "source": [
    "## Oppgave 4\n",
    "<center><img src=\"https://ntnu.blackboard.com/bbcswebdav/pid-2670714-dt-content-rid-78676536_1/xid-78676536_1\" alt=\"\" style=\"width: 500px;\"/></center>\n",
    "\n",
    "Grafen ovenfor oppgir akselerasjonen $a(t)$ til et tog som kjører mellom to stasjoner. Toget begynner å kjøre fra ro ved $t=0$ og beveger seg deretter rettlinjet til det stanser ved neste stasjon. \n",
    "\n",
    "Hvilke av følgende påstander om bevegelsen er riktige?\n",
    "\n",
    "A. Hastigheten er størst ved $t_1$.\n",
    "\n",
    "B. Hastigheten er størst ved $t_2$.\n",
    "\n",
    "C. Hastigheten er størst i tidsrommet $[t_3,t_4]$.\n",
    "\n",
    "D. Toget begynner å bremse ved $t_2$.\n",
    "\n",
    "E. Toget begynner å bremse ved $t_3$.\n",
    "\n",
    "F. Toget begynner å bremse ved $t_4$. \n",
    "\n",
    "G. Arealet under grafen mellom $t_1$ og $t_2$ gir tilbakelagt strekning i dette tidsrommet.\n",
    "\n",
    "H. Arealet under grafen mellom $t_1$ og $t_2$ gir hastighetsendringen i dette tidsrommet. \n",
    "\n",
    "I. Stigningstallet til grafen i et punkt gir togets hastighet på dette tidspunktet."
   ]
  },
  {
   "cell_type": "markdown",
   "metadata": {},
   "source": [
    "## Oppgave  5\n",
    "\n",
    "“… there simply is no physics without measurements. And just as important, there are no meaningful measurements without their uncertainties.”  </br> <small>W. Levin, For the love of physics s. 22</small>\n",
    "\n",
    "Installer Phyphox (https://phyphox.org/) på mobiltelefonen. Hensikten med første øving er å få til en måling av en størrelse som du måler flere ganger.\n",
    "\n",
    "Mål trykket på fem forskjellige steder i rommet. Pass på å måle høyt og lavt i rommet. (Hvis du ikke har trykkmåler, bruk en måling som du vil se varierer, som vinkelen på et bord dersom du flytter telefonen.)  Du skal nå ha fem målinger.\n",
    "\n",
    "Hensikt: Få installert phyphox applikasjon på din telefon. Få et forhold til målte tall. Få en forståelse for signifikante siffer og målte tallverdier.\n",
    "\n",
    "\n",
    "For å gjøre denne oppgaven trenger du å kunne kjøre jupyter filer. DU kan installere støtte for jupyter notebook i editoren vscode.  Informasjon om hvordan du får lagt inn jupyter i vscode finner du her (https://www.youtube.com/watch?v=suAkMeWJ1yE) \n"
   ]
  },
  {
   "cell_type": "code",
   "execution_count": 7,
   "metadata": {},
   "outputs": [
    {
     "name": "stdout",
     "output_type": "stream",
     "text": [
      "991.2624000000002\n",
      "0.09212296130717203\n"
     ]
    }
   ],
   "source": [
    "import numpy as np\n",
    "\n",
    "trykk=[991.276, 991.363, 991.318, 991.092, 991.263]\n",
    "middelverdi=np.mean(trykk) # Regner ut middelverdien av målingene\n",
    "standardavvik=np.std(trykk) # Regner ut standardavviket av målingene\n",
    "print(middelverdi)\n",
    "print(standardavvik)"
   ]
  },
  {
   "cell_type": "markdown",
   "metadata": {},
   "source": [
    "Hvis du skal oppgi et tall som representativ for målingen. Hva er riktig måte å oppgi dette tallet på? ( Hvis du ikke kjenner til f-strenger og formatering kan du finne det du trenger her https://realpython.com/how-to-python-f-string-format-float/. Legg spesielt merke til at vi kan bruke f{middelverdi:.2g} for å presisere 2 signifikante siffer. I eksemplet under er det gitt 8 signifikante siffer som er helt feil.) \n",
    "\n",
    "<font color='red'><b>Korriger med dine målinger og angi riktig antall signifikante siffer.</bold></font>"
   ]
  },
  {
   "cell_type": "code",
   "execution_count": 8,
   "metadata": {},
   "outputs": [
    {
     "name": "stdout",
     "output_type": "stream",
     "text": [
      "Målt verdi 991.2624\n"
     ]
    }
   ],
   "source": [
    "print(f'Målt verdi {middelverdi:.8g}')"
   ]
  },
  {
   "cell_type": "markdown",
   "metadata": {},
   "source": []
  }
 ],
 "metadata": {
  "kernelspec": {
   "display_name": "Python 3",
   "language": "python",
   "name": "python3"
  },
  "language_info": {
   "codemirror_mode": {
    "name": "ipython",
    "version": 3
   },
   "file_extension": ".py",
   "mimetype": "text/x-python",
   "name": "python",
   "nbconvert_exporter": "python",
   "pygments_lexer": "ipython3",
   "version": "3.10.2"
  }
 },
 "nbformat": 4,
 "nbformat_minor": 2
}
